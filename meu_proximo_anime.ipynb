{
  "cells": [
    {
      "cell_type": "markdown",
      "metadata": {
        "id": "FwXbIupMqPcy"
      },
      "source": [
        "##Importa e defina a função para fazer requests"
      ]
    },
    {
      "cell_type": "code",
      "execution_count": 11,
      "metadata": {
        "id": "7VaEFZGBpUsW"
      },
      "outputs": [],
      "source": [
        "import requests\n",
        "import json\n",
        "import datetime\n",
        "#doc api\n",
        "#https://docs.api.jikan.moe/#tag/anime/operation/getAnimeForum\n",
        "def pesquisa_anime(nome_anime, limite=0):\n",
        "\n",
        "  url = \"https://api.jikan.moe/v4/anime?q=\" + nome_anime + \"&limit=1\"\n",
        "  # Criar a requisição GET\n",
        "  response = requests.get(url)\n",
        "  filtered_data = []\n",
        "\n",
        "  # Verificar se a requisição foi bem-sucedida\n",
        "  if response.status_code == 200:\n",
        "    # Converter o conteúdo da resposta para JSON\n",
        "    dados_resposta = response.json()\n",
        "\n",
        "    # Iterar pelos itens na chave 'data'\n",
        "    for item in dados_resposta['data']:\n",
        "        # Obter o título do tipo \"Default\"\n",
        "        default_title = next((title['title'] for title in item['titles'] if title['type'] == \"Default\"), \"N/A\")\n",
        "\n",
        "        # Coletar os gêneros e temas em listas\n",
        "        genres = [genre['name'] for genre in item['genres']]\n",
        "        themes = [theme['name'] for theme in item['themes']]\n",
        "\n",
        "        # Criar um dicionário com as informações desejadas\n",
        "        filtered_info = {\n",
        "            'title': default_title,\n",
        "            'synopsis': item['synopsis'],\n",
        "            'genres': genres,\n",
        "            'themes': themes\n",
        "        }\n",
        "\n",
        "        # Adicionar o dicionário filtrado à lista\n",
        "        filtered_data.append(filtered_info)\n",
        "\n",
        "  return filtered_data\n",
        "\n",
        "import requests\n",
        "import json\n",
        "\n",
        "def ultimos_animes():\n",
        "  \"\"\"\n",
        "  Retorna todos os últimos animes lançados no ano atual utilizando paginação.\n",
        "\n",
        "  Returns:\n",
        "      list[dict]: Lista de dicionários contendo informações sobre os animes.\n",
        "  \"\"\"\n",
        "\n",
        "  filtered_data = []\n",
        "  page = 1\n",
        "\n",
        "  data_atual = datetime.datetime.now()\n",
        "  primeiro_dia_ano = data_atual.strftime(\"%Y-01-01\")\n",
        "  ultimo_dia_ano = data_atual.strftime(\"%Y-12-31\")\n",
        "\n",
        "  while True:\n",
        "    url = f\"https://api.jikan.moe/v4/anime?start_date={primeiro_dia_ano}&end_date={ultimo_dia_ano}&limit=25&sort=desc&page={page}\"\n",
        "    response = requests.get(url)\n",
        "\n",
        "    if response.status_code == 200:\n",
        "      dados_resposta = response.json()\n",
        "      animes_pagina = dados_resposta[\"data\"]\n",
        "\n",
        "      for item in animes_pagina:\n",
        "        default_title = next((title['title'] for title in item['titles'] if title['type'] == \"Default\"), \"N/A\")\n",
        "        genres = [genre['name'] for genre in item['genres']]\n",
        "        themes = [theme['name'] for theme in item['themes']]\n",
        "\n",
        "        filtered_info = {\n",
        "          'title': default_title,\n",
        "          'synopsis': item['synopsis'],\n",
        "          'genres': genres,\n",
        "          'themes': themes\n",
        "        }\n",
        "\n",
        "        filtered_data.append(filtered_info)\n",
        "\n",
        "      has_next_page = dados_resposta[\"pagination\"][\"has_next_page\"]\n",
        "      if not has_next_page:\n",
        "        break\n",
        "      page += 1\n",
        "\n",
        "  return filtered_data"
      ]
    },
    {
      "cell_type": "markdown",
      "metadata": {
        "id": "_H-j8IgWnPyc"
      },
      "source": [
        "###Gera a lista de animes mais recentes\n"
      ]
    },
    {
      "cell_type": "code",
      "execution_count": 12,
      "metadata": {
        "id": "881SGTb2rFi-",
        "colab": {
          "base_uri": "https://localhost:8080/"
        },
        "outputId": "4035edbe-bcf6-4675-eb87-b7a7a13220a7"
      },
      "outputs": [
        {
          "output_type": "stream",
          "name": "stdout",
          "text": [
            "Total de animes encontrados: 85\n"
          ]
        }
      ],
      "source": [
        "lista_animes_novos = ultimos_animes()\n",
        "print(f\"Total de animes encontrados: {len(lista_animes_novos)}\")"
      ]
    },
    {
      "cell_type": "markdown",
      "metadata": {
        "id": "hvp9l88GvKzQ"
      },
      "source": [
        "##Importa e configura o Google Gemini"
      ]
    },
    {
      "cell_type": "code",
      "execution_count": 22,
      "metadata": {
        "id": "gboX7Bb7nHyL",
        "colab": {
          "base_uri": "https://localhost:8080/",
          "height": 245
        },
        "outputId": "785ff0a6-5038-403d-b997-6521de7325a9"
      },
      "outputs": [
        {
          "output_type": "stream",
          "name": "stdout",
          "text": [
            "**Animes que você pode gostar:**\n",
            "\n",
            "* **Nozomanu Fushi no Boukensha** - Um aventureiro fracassado se torna um esqueleto e embarca em uma jornada para recuperar sua forma humana. Você gosta de animes de fantasia e aventura.\n",
            "* **Isekai de Mofumofu Nadenade suru Tame ni Ganbattemasu.** - Uma mulher é reencarnada em outro mundo e pode acariciar todos os tipos de criaturas fofas. Você gosta de animes de isekai e animais fofos.\n",
            "* **Sasaki to Pii-chan** - Um homem de 39 anos adota um pardal falante que lhe concede poderes mágicos. Você gosta de animes de comédia e fantasia.\n",
            "* **Majo to Yajuu** - Uma caçadora de bruxas e um mago viajam pelo mundo resolvendo casos relacionados a magia. Você gosta de animes de ação e fantasia.\n",
            "* **Shin no Nakama ja Nai to Yuusha no Party wo Oidasareta node, Henkyou de Slow Life suru Koto ni Shimashita 2nd** - Um homem é expulso de seu grupo de heróis e decide viver uma vida tranquila no campo. Você gosta de animes de aventura e fantasia.\n",
            "* **Saijaku Tamer wa Gomi Hiroi no Tabi wo Hajimemashita.** - Uma jovem com zero habilidades de domador de monstros é expulsa de sua aldeia e embarca em uma jornada para encontrar seu destino. Você gosta de animes de aventura e fantasia.\n",
            "* **Sokushi Cheat ga Saikyou sugite, Isekai no Yatsura ga Marude Aite ni Naranai n desu ga.** - Um estudante é transportado para outro mundo com uma habilidade que lhe permite matar qualquer coisa instantaneamente. Você gosta de animes de ação, aventura e comédia.\n",
            "* **Ao no Exorcist: Shimane Illuminati-hen** - O estudante de exorcismo Rin Okumura se envolve em uma conspiração envolvendo uma sociedade secreta. Você gosta de animes de ação e fantasia.\n",
            "* **Kekkon Yubiwa Monogatari** - Uma princesa de outro mundo se casa com um jovem para adquirir novos poderes mágicos. Você gosta de animes de ação, fantasia e romance.\n",
            "* **Ishura** - Mestres espadachins de vários mundos lutam pelo título de rei demônio. Você gosta de animes de ação, aventura e fantasia.\n"
          ]
        }
      ],
      "source": [
        "#Instalando o SDK do Google\n",
        "!pip install -q -U google-generativeai\n",
        "\n",
        "from google.colab import userdata\n",
        "gemini_api = userdata.get('gemini_api')\n",
        "\n",
        "#Configurações iniciais\n",
        "import google.generativeai as genai\n",
        "\n",
        "genai.configure(api_key=gemini_api)\n",
        "\n",
        "generation_config = {\n",
        "  \"candidate_count\": 1,\n",
        "  \"temperature\": 0.5,\n",
        "}\n",
        "safety_settings={\n",
        "    'HATE': 'BLOCK_NONE',\n",
        "    'HARASSMENT': 'BLOCK_NONE',\n",
        "    'SEXUAL' : 'BLOCK_NONE',\n",
        "    'DANGEROUS' : 'BLOCK_NONE'\n",
        "    }\n",
        "model = genai.GenerativeModel(model_name='gemini-1.0-pro',\n",
        "                                  generation_config=generation_config,\n",
        "                                  safety_settings=safety_settings,)\n",
        "\n",
        "chat = model.start_chat(history=[])\n",
        "\n",
        "response = chat.send_message(\"Estou de passando uma lista de animes, e por essa lista quero que selecione 10 animes que eu goste, essa é aliste de animes mais atual: \" + json.dumps(lista_animes_novos) + \" favor retornar o resultado com linguagem natural e adicionar o motivo pela escolha, mas para isso aguarde até eu enviar outra mensagem com a informações do animes que eu gosto.\")\n",
        "print(response.text)"
      ]
    },
    {
      "cell_type": "markdown",
      "metadata": {
        "id": "Z4LDYgwMvYFr"
      },
      "source": [
        "##Cria um loop de perguntas"
      ]
    },
    {
      "cell_type": "code",
      "execution_count": 24,
      "metadata": {
        "id": "RvPxhp-no38S",
        "colab": {
          "base_uri": "https://localhost:8080/",
          "height": 228
        },
        "outputId": "53beef7e-5b16-4c5e-9bb1-29b4dd74382b"
      },
      "outputs": [
        {
          "name": "stdout",
          "output_type": "stream",
          "text": [
            "Deixe sugerir outros animes com base em um que você goste?\n",
            "Ore dake Level Up na Ken\n",
            "**Animes que você pode gostar, com base em Ore dake Level Up na Ken:**\n",
            "\n",
            "* **Nozomanu Fushi no Boukensha** - Um aventureiro fracassado se torna um esqueleto e embarca em uma jornada para recuperar sua forma humana. Ambos os animes apresentam protagonistas que são inicialmente fracos, mas ganham poderes extraordinários.\n",
            "* **Shin no Nakama ja Nai to Yuusha no Party wo Oidasareta node, Henkyou de Slow Life suru Koto ni Shimashita 2nd** - Um homem é expulso de seu grupo de heróis e decide viver uma vida tranquila no campo. Ambos os animes apresentam protagonistas que são subestimados, mas possuem habilidades ocultas.\n",
            "* **Saijaku Tamer wa Gomi Hiroi no Tabi wo Hajimemashita.** - Uma jovem com zero habilidades de domador de monstros é expulsa de sua aldeia e embarca em uma jornada para encontrar seu destino. Ambos os animes apresentam protagonistas que são considerados fracos, mas têm o potencial de se tornarem poderosos.\n",
            "* **Sokushi Cheat ga Saikyou sugite, Isekai no Yatsura ga Marude Aite ni Naranai n desu ga.** - Um estudante é transportado para outro mundo com uma habilidade que lhe permite matar qualquer coisa instantaneamente. Ambos os animes apresentam protagonistas que são extremamente poderosos e enfrentam inimigos fracos.\n",
            "* **Ishura** - Mestres espadachins de vários mundos lutam pelo título de rei demônio. Ambos os animes apresentam protagonistas que são habilidosos em combate e enfrentam inimigos poderosos.\n",
            "Deixe sugerir outros animes com base em um que você goste?\n",
            "fim\n"
          ]
        }
      ],
      "source": [
        "prompt = \"\"\n",
        "while prompt != \"fim\":\n",
        "  prompt = input('Deixe sugerir outros animes com base em um que você goste?\\n')\n",
        "\n",
        "  if prompt == \"fim\":\n",
        "    break\n",
        "\n",
        "  #recupera os dados do anime solicitado\n",
        "  meu_anime = pesquisa_anime(prompt)\n",
        "  if len(json.dumps(meu_anime)) == 0 or json.dumps(meu_anime)== \"[]\":\n",
        "      print(\"Não encontrei esse anime, favor informar outro!\")\n",
        "      break\n",
        "  else:\n",
        "    response = chat.send_message( \"Eu gosto do anime: \" + json.dumps(meu_anime) + \" Sugira animes com base na listagem passada anteriormente!\")\n",
        "    print(response.text)\n",
        "\n"
      ]
    }
  ],
  "metadata": {
    "colab": {
      "toc_visible": true,
      "provenance": [],
      "authorship_tag": "ABX9TyOyg6rLYo5xjUyUAjQQ7aaE"
    },
    "kernelspec": {
      "display_name": "Python 3",
      "name": "python3"
    },
    "language_info": {
      "name": "python"
    }
  },
  "nbformat": 4,
  "nbformat_minor": 0
}