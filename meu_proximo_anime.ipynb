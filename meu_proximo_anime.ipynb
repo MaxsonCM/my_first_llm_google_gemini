{
  "cells": [
    {
      "cell_type": "markdown",
      "metadata": {
        "id": "view-in-github",
        "colab_type": "text"
      },
      "source": [
        "<a href=\"https://colab.research.google.com/github/MaxsonCM/my_first_llm_google_gemini/blob/main/meu_proximo_anime.ipynb\" target=\"_parent\"><img src=\"https://colab.research.google.com/assets/colab-badge.svg\" alt=\"Open In Colab\"/></a>"
      ]
    },
    {
      "cell_type": "markdown",
      "metadata": {
        "id": "FwXbIupMqPcy"
      },
      "source": [
        "##Importa e defina a função para fazer requests"
      ]
    },
    {
      "cell_type": "code",
      "execution_count": null,
      "metadata": {
        "id": "7VaEFZGBpUsW"
      },
      "outputs": [],
      "source": [
        "import requests\n",
        "import json\n",
        "#doc api\n",
        "#https://docs.api.jikan.moe/#tag/anime/operation/getAnimeForum\n",
        "def pesquisa_anime(nome_anime, limite=0):\n",
        "\n",
        "  url = \"https://api.jikan.moe/v4/anime?q=\" + nome_anime + \"&limit=1\"\n",
        "  # Criar a requisição GET\n",
        "  response = requests.get(url)\n",
        "  filtered_data = []\n",
        "\n",
        "  # Verificar se a requisição foi bem-sucedida\n",
        "  if response.status_code == 200:\n",
        "    # Converter o conteúdo da resposta para JSON\n",
        "    dados_resposta = response.json()\n",
        "\n",
        "    # Iterar pelos itens na chave 'data'\n",
        "    for item in dados_resposta['data']:\n",
        "        # Obter o título do tipo \"Default\"\n",
        "        default_title = next((title['title'] for title in item['titles'] if title['type'] == \"Default\"), \"N/A\")\n",
        "\n",
        "        # Coletar os gêneros e temas em listas\n",
        "        genres = [genre['name'] for genre in item['genres']]\n",
        "        themes = [theme['name'] for theme in item['themes']]\n",
        "\n",
        "        # Criar um dicionário com as informações desejadas\n",
        "        filtered_info = {\n",
        "            'title': default_title,\n",
        "            'synopsis': item['synopsis'],\n",
        "            'genres': genres,\n",
        "            'themes': themes\n",
        "        }\n",
        "\n",
        "        # Adicionar o dicionário filtrado à lista\n",
        "        filtered_data.append(filtered_info)\n",
        "\n",
        "  return filtered_data\n",
        "\n",
        "def ultimos_animes():\n",
        "\n",
        "  url = \"https://api.jikan.moe/v4/anime?start_date=2024-01-01&end_date=2024-12-31&limit=25&sort=desc\"\n",
        "\n",
        "  # Criar a requisição GET\n",
        "  response = requests.get(url)\n",
        "  filtered_data = []\n",
        "\n",
        "  # Verificar se a requisição foi bem-sucedida\n",
        "  if response.status_code == 200:\n",
        "    # Converter o conteúdo da resposta para JSON\n",
        "    dados_resposta = response.json()\n",
        "    # Iterar pelos itens na chave 'data'\n",
        "    for item in dados_resposta['data']:\n",
        "        # Obter o título do tipo \"Default\"\n",
        "        default_title = next((title['title'] for title in item['titles'] if title['type'] == \"Default\"), \"N/A\")\n",
        "\n",
        "        # Coletar os gêneros e temas em listas\n",
        "        genres = [genre['name'] for genre in item['genres']]\n",
        "        themes = [theme['name'] for theme in item['themes']]\n",
        "\n",
        "        # Criar um dicionário com as informações desejadas\n",
        "        filtered_info = {\n",
        "            'title': default_title,\n",
        "            'synopsis': item['synopsis'],\n",
        "            'genres': genres,\n",
        "            'themes': themes\n",
        "        }\n",
        "\n",
        "        # Adicionar o dicionário filtrado à lista\n",
        "        filtered_data.append(filtered_info)\n",
        "\n",
        "  return filtered_data\n"
      ]
    },
    {
      "cell_type": "markdown",
      "metadata": {
        "id": "_H-j8IgWnPyc"
      },
      "source": [
        "###Gera a lista de animes mais recentes\n"
      ]
    },
    {
      "cell_type": "code",
      "execution_count": null,
      "metadata": {
        "id": "881SGTb2rFi-",
        "colab": {
          "base_uri": "https://localhost:8080/"
        },
        "outputId": "d7dc8c1d-484e-4c9c-c35c-4889cc01138f"
      },
      "outputs": [
        {
          "output_type": "stream",
          "name": "stdout",
          "text": [
            "[{'title': 'Chiyu Mahou no Machigatta Tsukaikata', 'synopsis': \"Ken Usato, an ordinary high schooler, wishes for something fantastical to occur in his unremarkable life. Such an opportunity arrives when he is transported to another world alongside Kazuki Ryuusen and Suzune Inukami, two prodigious members of his school's student council. Arriving in Llinger Kingdom, the three are deemed to be the heroes tasked with stopping the impending invasion by the Demon Lord's army. However, this is a misunderstanding—Usato was summoned by accident and, unlike his two friends, is not one of the heroes.\\n\\nDespite this disheartening revelation, Usato learns that he has an aptitude for the extremely rare healing magic. This catches the attention of Rose, the intimidating captain of the kingdom's Rescue Team, who forcibly takes custody of Usato to mold him into a full-fledged healer. As he undergoes grueling training under Rose's supervision, Usato resolves to become capable enough to protect his friends from the dangers of this world.\\n\\n[Written by MAL Rewrite]\", 'genres': ['Action', 'Fantasy'], 'themes': ['Isekai']}, {'title': 'Mato Seihei no Slave', 'synopsis': 'As his school days draw to an end, Yuuki Wakura worries about his future. While lamenting the prospect of living an ordinary life, he is suddenly drawn into the world of Mato: an alternate dimension filled with dangerous monsters called Shuuki. Over the years since the existence of Mato was first confirmed, incidents of people accidentally wandering into the other world have become commonplace. To combat the threat of the Shuuki and rescue victims like Yuuki, the all-female Demon Defense Force was established. Its members have been blessed with the power of \"Peaches\"—Mato fruits that grant supernatural abilities only to women.\\n\\nThough Yuuki\\'s situation is dire, he is saved in the nick of time by Kyouka Uzen, the chief of the Demon Defense Force\\'s seventh unit. Despite Kyouka\\'s impeccable skills in battle, she has long been held back by her Peach-granted ability, Slave. Slave allows Kyouka to put a living being under her control and draw out its strength, but the Shuuki that she had enslaved until now had all proven to be exceedingly weak.\\n\\nWhen Yuuki and Kyouka become surrounded by a horde of Shuuki, Kyouka resorts to something she has never tried before: using her ability on a man. To her surprise, Yuuki\\'s slave form is much more powerful than she could have imagined. Believing the young man to be the key to unlocking her true potential, Kyouka invites Yuuki to join the Demon Defense Force—but not as a regular member.\\n\\n[Written by MAL Rewrite]', 'genres': ['Action', 'Fantasy', 'Ecchi'], 'themes': ['Harem']}, {'title': 'Jaku-Chara Tomozaki-kun 2nd Stage', 'synopsis': 'Second season of Jaku-Chara Tomozaki-kun.', 'genres': ['Drama', 'Romance'], 'themes': ['School']}, {'title': 'Youkoso Jitsuryoku Shijou Shugi no Kyoushitsu e 3rd Season', 'synopsis': 'Third season of Youkoso Jitsuryoku Shijou Shugi no Kyoushitsu e.', 'genres': ['Drama', 'Suspense'], 'themes': ['Psychological', 'School']}, {'title': 'Dead Dead Demons Dededede Destruction', 'synopsis': 'When you look up at the sky, what do you see? A blue sky? Freedom? A hopeful future? The people of Tokyo see none of these. Instead, an ominous alien mothership looms overhead, engulfing the city skyscape.\\n\\nThree years ago, they came. The arrival of the \"Invaders\" sparked the greatest war humanity had ever faced—one that threatened to end the world. The Japanese government scrambled to fight the Invaders. Weapons were mass-produced, sparking controversy and pacifist movements.\\n\\nThat day, everything changed. And yet, nothing has changed. Kadode Koyama and Ouran Nakagawa live their final days like they always have: going to school, playing with friends, and doing what any carefree high school girl would do.\\n\\nAs they grow up, they come to learn what it truly means to be an adult, in a world where adults seem to be demons who only deceive and destroy. They come to learn the real threat to humanity is not the Invaders, but humanity itself.\\n\\n[Written by MAL Rewrite]', 'genres': ['Drama', 'Sci-Fi'], 'themes': ['School']}, {'title': 'Nozomanu Fushi no Boukensha', 'synopsis': 'Rentt Faina, a 25-year-old adventurer, has been hacking away at monsters for a decade. Without much talent for the job, Rentt finds himself stuck hunting slimes and goblins for meager amounts of coin every day. Little does he know, all this is about to change when he comes across a seemingly undiscovered path in the Water Moon Dungeon.\\n\\nWhat awaits him at the end of the path, however, is neither treasure nor riches, but a legendary dragon that wastes no time swallowing him whole! Waking up a short time later, Rentt finds himself not quite dead, but not very alive either―He is nothing more than a pile of bones! Armed with nothing but his trusty sword, tool belt, and ghoulish new looks, Rentt sets off on his quest as a newly reborn skeleton to achieve Existential Evolution, hoping to one day return to civilization with a more human form.\\n\\nWill Rentt succeed, or will the dungeon consume him for the rest of his un-death...?\\n\\n(Source: J-Novel Club)', 'genres': ['Action', 'Adventure', 'Fantasy'], 'themes': []}, {'title': 'Shaman King: Flowers', 'synopsis': \"The story will center on You and Anna's son, Hana.\", 'genres': ['Action', 'Adventure', 'Supernatural'], 'themes': ['Super Power']}, {'title': 'Touken Ranbu Kai: Kyoden Moyuru Honnouji', 'synopsis': 'Anime adaptation of the stage play Touken Ranbu: Kyoden Moyuru Honnouji.', 'genres': ['Action', 'Fantasy'], 'themes': ['Anthropomorphic', 'Historical', 'Samurai']}, {'title': 'Ore dake Level Up na Ken', 'synopsis': 'Humanity was caught at a precipice a decade ago when the first gates—portals linked with other dimensions that harbor monsters immune to conventional weaponry—emerged around the world. Alongside the appearance of the gates, various humans were transformed into hunters and bestowed superhuman abilities. Responsible for entering the gates and clearing the dungeons within, many hunters chose to form guilds to secure their livelihoods.\\n\\nSung Jin-Woo is an E-rank hunter dubbed as the weakest hunter of all mankind. While exploring a supposedly safe dungeon, he and his party encounter an unusual tunnel leading to a deeper area. Enticed by the prospect of treasure, the group presses forward, only to be confronted with horrors beyond their imagination. Miraculously, Jin-Woo survives the incident and soon finds that he now has access to an interface visible only to him. This mysterious system promises him the power he has long dreamed of—but everything comes at a price.\\n\\n[Written by MAL Rewrite]', 'genres': ['Action', 'Adventure', 'Fantasy'], 'themes': ['Adult Cast']}, {'title': 'Isekai de Mofumofu Nadenade suru Tame ni Ganbattemasu.', 'synopsis': \"Twenty-seven-year-old salarywoman Midori Akitsu suddenly dies in her apartment due to overwork. As her spirit leaves her body, God appears before her, offering Midori a second chance at life in another world called Asdyllon. There, she must observe how badly humans persecute other species and judge if they should continue existing.\\n\\nTo help her get started, God grants Midori a special ability: to be liked by all kinds of non-humans—whether it be animals or holy beasts—enabling her to embrace and cuddle them as much as she wants. Now reborn as Nefertima Osfe, a duke's daughter, she enjoys her new life to the fullest alongside her adorable companions. However, it will not be long before she discovers what her task truly entails and that her time in this world will not always be fluffy.\\n\\n[Written by MAL Rewrite]\", 'genres': ['Adventure', 'Fantasy'], 'themes': ['Isekai', 'Reincarnation']}, {'title': 'Sasaki to Pii-chan', 'synopsis': \"Sasaki, a 39-year-old corporate employee, has resigned himself to live a modest life without dreams and dangers. To his great surprise, his fate takes a brutal turn after he decides to adopt a Java sparrow that he names Pii-chan. The talking bird not only happens to be a reincarnation of a famous magician from another world, but it decides to grant some of its powers to Sasaki—along with the ability to traverse between worlds. Sasaki begins a lucrative business of selling technological items from his world to the less advanced civilization of the other.\\n\\nHowever, Sasaki's life becomes more chaotic when he stops an attempt on a woman's life with his new powers.  Unfortunately, the woman Sasaki saved also happens to be a government agent named Hoshizaki, who is tasked with tracking down gifted individuals like him. Forced to join Hoshizaki's secret agency, Sasaki partakes in dangerous missions to find other gifted criminals. He does not even have the luxury of hiding in the other world, where a war is about to break out. If he wants to protect peace in both worlds, Sasaki will have to become the hero that no one expects him to be.\\n\\n[Written by MAL Rewrite]\", 'genres': ['Adventure', 'Comedy', 'Fantasy'], 'themes': ['Isekai']}, {'title': 'Majo to Yajuu', 'synopsis': \"Cursed by a witch, the feral and tempestuous Guideau tenaciously searches for the culprit so she can exact revenge. To this end, she joins the Order of Magical Resonance, an organization that deals with everything connected to magic. The Order agrees to work with Guideau in return for her help solving the myriad of magic-related cases occurring across the world.\\n\\nThe Order's suave and mysterious mage Ashaf accompanies Guideau for the sake of successfully completing missions. As the pair traverses the land in search of that unknown witch, their experience with the fantastical world of magic grows ever more peculiar the further they advance in their journey.\\n\\n[Written by MAL Rewrite]\", 'genres': ['Action', 'Fantasy'], 'themes': []}, {'title': 'Jian Wang 3: Xia Gan Yi Dan Shen Jianxin 3rd Season Part 2', 'synopsis': None, 'genres': ['Action', 'Adventure', 'Comedy'], 'themes': ['Historical', 'Martial Arts']}, {'title': 'Kingdom 5th Season', 'synopsis': 'Fifth season of Kingdom.', 'genres': ['Action'], 'themes': ['Historical', 'Military']}, {'title': 'Dosanko Gal wa Namara Menkoi', 'synopsis': \"Having just moved from Tokyo to Hokkaido, high school student Tsubasa Shiki decides to explore the picturesque winter landscape he could never experience in the nation's capital. It only takes a moment for Tsubasa's idealized view of Japan's northernmost prefecture to crumble, as the sheer cold and frigid air quickly overwhelm him. While trying to find the way to his new home, Tsubasa runs into Minami Fuyuki—a talkative and friendly Hokkaido native who, despite the cold, is wearing a short skirt. The girl wastes no time in striking up a conversation, and Tsubasa comes to realize that the winter weather is not all that is too much for him to handle.\\n\\nThe next day, Tsubasa is shocked to learn that not only is Fuyuki in his class, but her seat is also right next to his. Swept along by Fuyuki's persistent advances, the young man soon becomes captivated by both life in Hokkaido and the beautiful girl determined to get closer to him. As he deepens his relationship with Fuyuki and meets other fashionable girls from his school, Tsubasa finds out that Hokkaido gals truly are adorable.\\n\\n[Written by MAL Rewrite]\", 'genres': ['Comedy'], 'themes': ['Romantic Subtext', 'School']}, {'title': 'Shin no Nakama ja Nai to Yuusha no Party wo Oidasareta node, Henkyou de Slow Life suru Koto ni Shimashita 2nd', 'synopsis': 'Second Season of Shin no Nakama ja Nai to Yuusha no Party wo Oidasareta node, Henkyou de Slow Life suru Koto ni Shimashita.', 'genres': ['Adventure', 'Fantasy', 'Romance'], 'themes': []}, {'title': 'Saijaku Tamer wa Gomi Hiroi no Tabi wo Hajimemashita.', 'synopsis': 'Born into a loving family, Femicia appears to have a bright future ahead of her. When she finally turns five, the time comes to go to the church to have her skills appraised. However, while she does receive a monster tamer skill, it turns out that Femicia has zero stars for that ability. To make matters worse, society considers those who have zero stars to be harbingers of misfortune; as a result, Femicia is shunned by everyone—including her family.\\n\\nSoon enough, Femicia is chased out of her village and is constantly on the run. Fearing for her life, she decides to masquerade as a boy and change her name to Ivy. With a goal given to her by a fortune teller to reach the royal capital, Ivy meets and successfully tames a slime, starting an unlikely friendship that may provide a means to get the destiny she deserves.\\n\\n[Written by MAL Rewrite]', 'genres': ['Adventure', 'Fantasy'], 'themes': ['Crossdressing', 'Isekai', 'Reincarnation']}, {'title': 'Sokushi Cheat ga Saikyou sugite, Isekai no Yatsura ga Marude Aite ni Naranai n desu ga.', 'synopsis': 'During a school trip, a bus full of students is suddenly transported to another world by a sage named Sion. She bestows most of the students with powers called Gifts, seeking to recruit them to become sages as well. However, a few are excluded from receiving a Gift, resulting in the others leaving them behind.\\n\\nYogiri Takatou, one of the students who did not receive a Gift, wakes up to find a dragon attacking the bus. Amidst the chaos, he executes the dragon using his innate ability to instantly put anything to death. Alongside fellow survivor Tomochika Dannoura, Takatou sets out to find a way back to Earth, all while eliminating anyone who dares to underestimate him—including his former classmates.\\n\\n[Written by MAL Rewrite]', 'genres': ['Action', 'Adventure', 'Comedy', 'Fantasy'], 'themes': ['Isekai', 'Parody']}, {'title': 'Ao no Exorcist: Shimane Illuminati-hen', 'synopsis': 'At True Cross Academy, Rin Okumura unknowingly comes across the first signs that something is amiss; ordinary people have been gaining the ability to perceive the invisible creatures that roam the human realm, Assiah. While Rin sees this as an opportunity to make a new friend, his twin brother, Yukio, is more burdened than ever. Swamped with his education, exorcist duties, and teaching position, Yukio has remained silent about his awakened powers, unable to understand their scale or significance.\\n\\nWhile Rin and his friends prepare for the annual Exorcist Certification Exam, the True Cross Order has uncovered the first artificial gate to the demonic realm of Gehenna. Witnessing its size and the advanced technology that made it possible, the exorcists realize they are now dealing with the Illuminati, an extremely wealthy and powerful organization. Moreover, the inscrutable Illuminati have planted three spies in the True Cross Order—and one may be hiding among the aspiring exorcists sworn to protect mankind from the demonic threat.\\n\\n[Written by MAL Rewrite]', 'genres': ['Action', 'Fantasy'], 'themes': ['Mythology', 'School']}, {'title': 'Cardfight!! Vanguard: Divinez', 'synopsis': 'Sixth season of Cardfight!! Vanguard: D Series.', 'genres': ['Action'], 'themes': ['Strategy Game']}, {'title': 'Chou Futsuu Ken Chiba Densetsu', 'synopsis': \"In the seemingly ordinary Prefecture Chiba, where life moves at its own relaxed pace, meet Shikawa Ako—a high school student with an unremarkable existence. Little does she know, the humdrum days of Chiba are about to get a hilarious twist. In 'The Legend of Super Normal Prefecture Chiba,' Ako inadvertently becomes the epicenter of a comedic storm that turns the 'ordinary' into the spectacularly absurd.\", 'genres': ['Comedy', 'Fantasy'], 'themes': []}, {'title': 'Kekkon Yubiwa Monogatari', 'synopsis': \"A decade ago, princess Krystal Novaty “Hime” Nokanatika traveled from another world to escape assassination attempts by an evil force. When she arrives in modern-day Japan, she encounters Haruto Satou. With him she shares a promise: he must forget what he has just witnessed, and the two will become friends. Now heading back to the Nokanatika Kingdom to fulfill her royal duties, Hime bids farewell to Haruto. However, when the young man suddenly remembers his first meeting with Hime, he rushes to the location where she first appeared and crosses the dimensional portal to be reunited with her.\\n\\nHis arrival disrupts the marriage ceremony between Krystal and prince Marmarugias Gisaras. The wedding is brutally interrupted by the attack of an abyss monster who threatens the princess' life. Acting impulsively, Hime decides to exchange rings with Haruto, which grants her new husband light powers that permit him to slay the monster. Now dubbed as the Ring King, Haruto must marry four other princesses to acquire new magical powers and have a chance to prevail in his fight against the enemy of the world: the Abyss King.\\n\\n[Written by MAL Rewrite]\", 'genres': ['Action', 'Fantasy', 'Romance', 'Ecchi'], 'themes': ['Harem', 'Isekai']}, {'title': 'Ishura', 'synopsis': \"After the demise of the demon king, the resulting power vacuum has broken the balance of the world. Eager to claim this power for themselves, self-proclaimed demon kings from various worlds assemble in the New Principality of Lithia to fight for it. Among them, master swordsman Soujirou Yagyuu seeks to take this coveted position for himself. Joined by Tooi Kagizume no Yuno, a young girl he saved from an army of golems that destroyed her city, Soujirou enters Lithia to battle his way to the title.\\n\\nAt the same time, the leaders of the Aureatia Kingdom seek to destabilize Lithia by launching bandits after the convoys of merchandise transiting through the principality. Enraged, Imashime of Taren, the founder of Lithia and defector from Aureatia, sends vicious thief Kasasagi no Dakai to investigate the origin of these attacks. With war on the brink of eruption, no one can predict what influence the contenders for the demon king's throne will have on the coming conflict.\\n\\n[Written by MAL Rewrite]\", 'genres': ['Action', 'Adventure', 'Fantasy'], 'themes': ['Gore', 'Isekai']}, {'title': 'Kyuujitsu no Warumono-san', 'synopsis': 'As a member of a malevolent organization, the General is tasked with invading Earth and wiping out humanity. Even an extraterrestrial being like him, however, needs a chance to rest.\\n\\nNot even the Rangers—a team solely dedicated to defeating the General and his colleagues—will stand in the way of him visiting pandas at the zoo, buying ice cream at the convenience store, and enjoying his well-deserved day off from committing evil deeds.\\n\\n[Written by MAL Rewrite]', 'genres': ['Fantasy', 'Slice of Life'], 'themes': ['Iyashikei']}, {'title': 'Gekai Elise', 'synopsis': \"In her first life, the renowned and genius surgeon Dr. Aoi Takamoto was Elise de Clorance, a villainess of noble descent. Elise's selfishness, insolence, and obsessive love for her fiancé—Prince Linden de Romanoff—led to the deaths of her family members and, eventually, herself. Only after being reborn did Elise realize the error of her ways and decide that, instead of ruining lives, she would devote herself to saving them. But a tragic airplane crash robs her of her dreams too soon.\\n\\nBy a miracle, Elise wakes up in her original body before her official engagement to Linden. Recognizing the chance to cherish her loving family and free Linden from an unwanted marriage, Elise wishes to use her advanced medical knowledge to continue down the path of saving lives. In a deal with the emperor, Elise is given only six months to prove that her true place is not on the throne, but rather with the wounded and ailing who desperately need her help.\\n\\n[Written by MAL Rewrite]\", 'genres': ['Fantasy', 'Romance'], 'themes': ['Medical', 'Reincarnation']}]\n"
          ]
        }
      ],
      "source": [
        "lista_animes_novos = ultimos_animes()\n",
        "print(lista_animes_novos)"
      ]
    },
    {
      "cell_type": "markdown",
      "metadata": {
        "id": "hvp9l88GvKzQ"
      },
      "source": [
        "##Importa e configura o Google Gemini"
      ]
    },
    {
      "cell_type": "code",
      "execution_count": null,
      "metadata": {
        "id": "gboX7Bb7nHyL"
      },
      "outputs": [],
      "source": [
        "#Instalando o SDK do Google\n",
        "!pip install -q -U google-generativeai\n",
        "\n",
        "from google.colab import userdata\n",
        "gemini_api = userdata.get('gemini_api')\n",
        "\n",
        "#Configurações iniciais\n",
        "import google.generativeai as genai\n",
        "\n",
        "genai.configure(api_key=gemini_api)\n",
        "\n",
        "generation_config = {\n",
        "  \"candidate_count\": 1,\n",
        "  \"temperature\": 0.5,\n",
        "}\n",
        "safety_settings={\n",
        "    'HATE': 'BLOCK_NONE',\n",
        "    'HARASSMENT': 'BLOCK_NONE',\n",
        "    'SEXUAL' : 'BLOCK_NONE',\n",
        "    'DANGEROUS' : 'BLOCK_NONE'\n",
        "    }\n",
        "model = genai.GenerativeModel(model_name='gemini-1.0-pro',\n",
        "                                  generation_config=generation_config,\n",
        "                                  safety_settings=safety_settings,)\n",
        "\n",
        "chat = model.start_chat(history=[])\n",
        "\n"
      ]
    },
    {
      "cell_type": "markdown",
      "metadata": {
        "id": "wSgycPWRvzQh"
      },
      "source": [
        "##Reseta o prompt"
      ]
    },
    {
      "cell_type": "code",
      "execution_count": null,
      "metadata": {
        "id": "XA09IQk4vyqs"
      },
      "outputs": [],
      "source": [
        "prompt = \"\"\n",
        "#prompt_padrao = \"Você se comportará como um algoritmo de sugestão de animes e deverá solicitar um nome de anime para depois pesquisar qual é sua sinopse e genero para sugerir outros animes similares\"\n",
        "prompt_padrao = \"Retorne em linguagem natural apenas a sugestão de animes baseando no meu gosto de animes passado na estrutura json logo em seguida, analise o estilo do anime e sinopse para se basear em suas sugestões, passarei a lista de animes mais atual para serem selecionados\"\n"
      ]
    },
    {
      "cell_type": "markdown",
      "metadata": {
        "id": "Z4LDYgwMvYFr"
      },
      "source": [
        "##Cria um loop de perguntas"
      ]
    },
    {
      "cell_type": "code",
      "execution_count": null,
      "metadata": {
        "id": "RvPxhp-no38S"
      },
      "outputs": [],
      "source": [
        "while prompt != \"fim\":\n",
        "  prompt = input('Deixe sugerir outros animes com base em um que você goste?\\n')\n",
        "\n",
        "  if prompt == \"fim\":\n",
        "    break\n",
        "\n",
        "  #recupera os dados do anime solicitado\n",
        "  meu_anime = pesquisa_anime(prompt)\n",
        "  if len(json.dumps(meu_anime)) == 0 or json.dumps(meu_anime)== \"[]\":\n",
        "      print(\"Não encontrei esse anime, favor informar outro!\")\n",
        "      break\n",
        "  else:\n",
        "\n",
        "    response = chat.send_message(prompt_padrao + \" Eu gosto do anime: \" + json.dumps(meu_anime) + \" Selecione animes com base nessa lista: \" + json.dumps(lista_animes_novos))\n",
        "    #response = chat.send_message(prompt_padrao + \" Eu gosto do animes:\" + json.dumps(meu_anime[\"data\"]) + \" Essas é a lista de animes mais atual:\" + json.dumps(lista_animes_novos[\"data\"]))\n",
        "    print(response.text)\n",
        "\n"
      ]
    }
  ],
  "metadata": {
    "colab": {
      "toc_visible": true,
      "provenance": [],
      "authorship_tag": "ABX9TyOPvyh3Voo5KWGjdExtReEs",
      "include_colab_link": true
    },
    "kernelspec": {
      "display_name": "Python 3",
      "name": "python3"
    },
    "language_info": {
      "name": "python"
    }
  },
  "nbformat": 4,
  "nbformat_minor": 0
}