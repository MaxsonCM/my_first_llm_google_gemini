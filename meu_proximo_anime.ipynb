{
  "cells": [
    {
      "cell_type": "markdown",
      "metadata": {
        "id": "FwXbIupMqPcy"
      },
      "source": [
        "##Importa e defina a função para fazer requests"
      ]
    },
    {
      "cell_type": "code",
      "execution_count": 24,
      "metadata": {
        "id": "7VaEFZGBpUsW"
      },
      "outputs": [],
      "source": [
        "import requests\n",
        "import json\n",
        "import datetime\n",
        "import textwrap\n",
        "from IPython.display import Markdown\n",
        "#doc api\n",
        "#https://docs.api.jikan.moe/#tag/anime/operation/getAnimeForum\n",
        "def pesquisa_anime(nome_anime, limite=0):\n",
        "\n",
        "  url = \"https://api.jikan.moe/v4/anime?q=\" + nome_anime + \"&limit=1\"\n",
        "  # Criar a requisição GET\n",
        "  response = requests.get(url)\n",
        "  filtered_data = []\n",
        "\n",
        "  # Verificar se a requisição foi bem-sucedida\n",
        "  if response.status_code == 200:\n",
        "    # Converter o conteúdo da resposta para JSON\n",
        "    dados_resposta = response.json()\n",
        "\n",
        "    # Iterar pelos itens na chave 'data'\n",
        "    for item in dados_resposta['data']:\n",
        "        # Obter o título do tipo \"Default\"\n",
        "        default_title = next((title['title'] for title in item['titles'] if title['type'] == \"Default\"), \"N/A\")\n",
        "\n",
        "        # Coletar os gêneros e temas em listas\n",
        "        genres = [genre['name'] for genre in item['genres']]\n",
        "        themes = [theme['name'] for theme in item['themes']]\n",
        "\n",
        "        # Criar um dicionário com as informações desejadas\n",
        "        filtered_info = {\n",
        "            'title': default_title,\n",
        "            'synopsis': item['synopsis'],\n",
        "            'genres': genres,\n",
        "            'themes': themes\n",
        "        }\n",
        "\n",
        "        # Adicionar o dicionário filtrado à lista\n",
        "        filtered_data.append(filtered_info)\n",
        "\n",
        "  return filtered_data\n",
        "\n",
        "import requests\n",
        "import json\n",
        "\n",
        "def ultimos_animes():\n",
        "  \"\"\"\n",
        "  Retorna todos os últimos animes lançados no ano atual utilizando paginação.\n",
        "\n",
        "  Returns:\n",
        "      list[dict]: Lista de dicionários contendo informações sobre os animes.\n",
        "  \"\"\"\n",
        "\n",
        "  filtered_data = []\n",
        "  page = 1\n",
        "\n",
        "  data_atual = datetime.datetime.now()\n",
        "  primeiro_dia_ano = data_atual.strftime(\"%Y-01-01\")\n",
        "  ultimo_dia_ano = data_atual.strftime(\"%Y-12-31\")\n",
        "\n",
        "  while True:\n",
        "    url = f\"https://api.jikan.moe/v4/anime?start_date={primeiro_dia_ano}&end_date={ultimo_dia_ano}&limit=25&sort=desc&page={page}\"\n",
        "    response = requests.get(url)\n",
        "\n",
        "    if response.status_code == 200:\n",
        "      dados_resposta = response.json()\n",
        "      animes_pagina = dados_resposta[\"data\"]\n",
        "\n",
        "      for item in animes_pagina:\n",
        "        default_title = next((title['title'] for title in item['titles'] if title['type'] == \"Default\"), \"N/A\")\n",
        "        genres = [genre['name'] for genre in item['genres']]\n",
        "        themes = [theme['name'] for theme in item['themes']]\n",
        "\n",
        "        filtered_info = {\n",
        "          'title': default_title,\n",
        "          'synopsis': item['synopsis'],\n",
        "          'genres': genres,\n",
        "          'themes': themes\n",
        "        }\n",
        "\n",
        "        filtered_data.append(filtered_info)\n",
        "\n",
        "      has_next_page = dados_resposta[\"pagination\"][\"has_next_page\"]\n",
        "      if not has_next_page:\n",
        "        break\n",
        "      page += 1\n",
        "\n",
        "  return filtered_data\n",
        "\n",
        "def to_markdown(text):\n",
        "  text = text.replace('•', '  *')\n",
        "  return Markdown(textwrap.indent(text, '> ', predicate=lambda _: True))"
      ]
    },
    {
      "cell_type": "markdown",
      "metadata": {
        "id": "_H-j8IgWnPyc"
      },
      "source": [
        "##Gera a lista de animes mais recentes\n"
      ]
    },
    {
      "cell_type": "code",
      "execution_count": 6,
      "metadata": {
        "id": "881SGTb2rFi-",
        "colab": {
          "base_uri": "https://localhost:8080/"
        },
        "outputId": "1861049d-88fb-45cf-876f-36067ea362d0"
      },
      "outputs": [
        {
          "output_type": "stream",
          "name": "stdout",
          "text": [
            "Total de animes encontrados: 85\n"
          ]
        }
      ],
      "source": [
        "lista_animes_novos = ultimos_animes()\n",
        "print(f\"Total de animes encontrados: {len(lista_animes_novos)}\")"
      ]
    },
    {
      "cell_type": "markdown",
      "metadata": {
        "id": "hvp9l88GvKzQ"
      },
      "source": [
        "##Importa e configura o Google Gemini"
      ]
    },
    {
      "cell_type": "code",
      "execution_count": null,
      "metadata": {
        "id": "gboX7Bb7nHyL"
      },
      "outputs": [],
      "source": [
        "#Instalando o SDK do Google\n",
        "!pip install -q -U google-generativeai\n",
        "\n",
        "from google.colab import userdata\n",
        "gemini_api = userdata.get('gemini_api')\n",
        "\n",
        "#Configurações iniciais\n",
        "import google.generativeai as genai\n",
        "\n",
        "genai.configure(api_key=gemini_api)\n",
        "\n",
        "generation_config = {\n",
        "  \"candidate_count\": 1,\n",
        "  \"temperature\": 0,\n",
        "}\n",
        "safety_settings={\n",
        "    'HATE': 'BLOCK_NONE',\n",
        "    'HARASSMENT': 'BLOCK_NONE',\n",
        "    'SEXUAL' : 'BLOCK_NONE',\n",
        "    'DANGEROUS' : 'BLOCK_NONE'\n",
        "    }\n",
        "model = genai.GenerativeModel(model_name='gemini-1.0-pro',\n",
        "                                  generation_config=generation_config,\n",
        "                                  safety_settings=safety_settings,)\n",
        "\n",
        "chat = model.start_chat(history=[])\n",
        "\n",
        "#response = chat.send_message(\"Estou de passando uma lista de animes, e por essa lista quero que selecione 10 animes que eu goste, essa é aliste de animes mais atual: \" + json.dumps(lista_animes_novos) + \" favor retornar o resultado com linguagem natural e adicionar o motivo pela escolha, mas para isso aguarde até eu enviar outra mensagem com a informações do animes que eu gosto.\")\n",
        "response = chat.send_message(\"Use a lista de animes a seguir, para analisar as proximas entradas e selecionar os itens na lista com base na entrada passada \" + json.dumps(lista_animes_novos) + \" favor retornar o resultado em formato de tabela\")\n",
        "print(to_markdown(response.text))"
      ]
    },
    {
      "cell_type": "markdown",
      "metadata": {
        "id": "Z4LDYgwMvYFr"
      },
      "source": [
        "##Cria um loop de perguntas"
      ]
    },
    {
      "cell_type": "code",
      "execution_count": 27,
      "metadata": {
        "id": "RvPxhp-no38S",
        "colab": {
          "base_uri": "https://localhost:8080/",
          "height": 957
        },
        "outputId": "b30309e8-87c3-42ac-bd97-7bbad5c86e12"
      },
      "outputs": [
        {
          "name": "stdout",
          "output_type": "stream",
          "text": [
            "Deixe sugerir outros animes com base em um que você goste?\n",
            "bleach\n",
            "**Animes semelhantes a Bleach:**\n",
            "\n",
            "* **Naruto:** Uma série de ação e aventura sobre um jovem ninja que sonha em se tornar o líder de sua vila.\n",
            "* **One Piece:** Uma série de aventura e fantasia sobre um jovem pirata que sonha em encontrar o maior tesouro do mundo.\n",
            "* **Fairy Tail:** Uma série de ação e fantasia sobre uma guilda de magos que luta contra o mal.\n",
            "* **Fullmetal Alchemist: Brotherhood:** Uma série de ação e aventura sobre dois irmãos alquimistas que tentam restaurar seus corpos após um experimento fracassado.\n",
            "* **Hunter x Hunter:** Uma série de ação e aventura sobre um jovem que sonha em se tornar um caçador, um indivíduo licenciado para realizar várias tarefas perigosas.\n",
            "* **Yu Yu Hakusho:** Uma série de ação e aventura sobre um delinquente que se torna um detetive espiritual após sua morte.\n",
            "* **Inuyasha:** Uma série de ação e fantasia sobre uma estudante do ensino médio que é transportada para o Japão feudal e se junta a um meio-demônio em uma jornada para encontrar fragmentos de uma joia sagrada.\n",
            "* **Rurouni Kenshin:** Uma série de ação e aventura sobre um ex-assassino que viaja pelo Japão oferecendo ajuda aos necessitados.\n",
            "* **Samurai Champloo:** Uma série de ação e aventura sobre três espadachins que viajam pelo Japão durante o período Edo.\n",
            "* **Afro Samurai:** Uma série de ação e aventura sobre um samurai que busca vingança pela morte de seu pai.\n",
            "\n",
            "\n",
            "\n",
            "Deixe sugerir outros animes com base em um que você goste?\n",
            "overlord\n",
            "**Animes semelhantes a Overlord:**\n",
            "\n",
            "* **Log Horizon:** Uma série de ação e aventura sobre um grupo de jogadores que ficam presos em um MMORPG após uma atualização.\n",
            "* **Sword Art Online:** Uma série de ação e aventura sobre um grupo de jogadores que ficam presos em um MMORPG e devem lutar para sobreviver.\n",
            "* **No Game No Life:** Uma série de ação e aventura sobre dois irmãos que são transportados para um mundo de jogos e devem usar sua inteligência para vencer.\n",
            "* **Re:Zero − Starting Life in Another World:** Uma série de ação e aventura sobre um jovem que é transportado para outro mundo e deve reviver o mesmo dia repetidamente.\n",
            "* **Konosuba: God's Blessing on This Wonderful World!:** Uma série de ação e comédia sobre um grupo de aventureiros que lutam contra monstros e demônios.\n",
            "* **The Devil Is a Part-Timer!:** Uma série de ação e comédia sobre um Lorde Demônio que é transportado para a Terra e deve trabalhar em um restaurante de fast food para sobreviver.\n",
            "* **How Not to Summon a Demon Lord:** Uma série de ação e comédia sobre um jogador que convoca duas garotas demônio e deve viajar com elas para derrotar o Lorde Demônio.\n",
            "* **The Rising of the Shield Hero:** Uma série de ação e aventura sobre um jovem que é transportado para outro mundo e se torna o Herói do Escudo.\n",
            "* **That Time I Got Reincarnated as a Slime:** Uma série de ação e aventura sobre um homem que é reencarnado como um slime em outro mundo.\n",
            "* **Mushoku Tensei: Jobless Reincarnation:** Uma série de ação e aventura sobre um homem que é reencarnado em outro mundo como uma criança e deve aprender a usar magia para sobreviver.\n",
            "\n",
            "\n",
            "\n",
            "Deixe sugerir outros animes com base em um que você goste?\n",
            "Ore dake Level Up na Ken\n",
            "**Animes semelhantes a Ore dake Level Up na Ken:**\n",
            "\n",
            "* **Solo Leveling:** Uma série de ação e aventura sobre um caçador de baixo nível que se torna o mais poderoso do mundo.\n",
            "* **The Beginning After the End:** Uma série de ação e aventura sobre um rei que é reencarnado em outro mundo como uma criança e deve aprender a usar magia para sobreviver.\n",
            "* **Mushoku Tensei: Jobless Reincarnation:** Uma série de ação e aventura sobre um homem que é reencarnado em outro mundo como uma criança e deve aprender a usar magia para sobreviver.\n",
            "* **That Time I Got Reincarnated as a Slime:** Uma série de ação e aventura sobre um homem que é reencarnado em outro mundo como um slime e deve aprender a usar magia para sobreviver.\n",
            "* **Overlord:** Uma série de ação e aventura sobre um poderoso mago que fica preso em um MMORPG e deve usar sua inteligência para sobreviver.\n",
            "* **Log Horizon:** Uma série de ação e aventura sobre um grupo de jogadores que ficam presos em um MMORPG e devem lutar para sobreviver.\n",
            "* **Sword Art Online:** Uma série de ação e aventura sobre um grupo de jogadores que ficam presos em um MMORPG e devem lutar para sobreviver.\n",
            "* **No Game No Life:** Uma série de ação e aventura sobre dois irmãos que são transportados para um mundo de jogos e devem usar sua inteligência para vencer.\n",
            "* **Re:Zero − Starting Life in Another World:** Uma série de ação e aventura sobre um jovem que é transportado para outro mundo e deve reviver o mesmo dia repetidamente.\n",
            "* **Konosuba: God's Blessing on This Wonderful World!:** Uma série de ação e comédia sobre um grupo de aventureiros que lutam contra monstros e demônios.\n",
            "\n",
            "\n",
            "\n",
            "Deixe sugerir outros animes com base em um que você goste?\n",
            "fim\n"
          ]
        }
      ],
      "source": [
        "prompt = \"\"\n",
        "while prompt != \"fim\":\n",
        "  prompt = input('Deixe sugerir outros animes com base em um que você goste?\\n')\n",
        "\n",
        "  if prompt == \"fim\":\n",
        "    break\n",
        "\n",
        "  #recupera os dados do anime solicitado\n",
        "  meu_anime = pesquisa_anime(prompt)\n",
        "  if len(json.dumps(meu_anime)) == 0 or json.dumps(meu_anime)== \"[]\":\n",
        "    response = chat.send_message( \"Eu gosto de anime do tipo: \" + prompt + \" Sugira animes com base na listagem passada anteriormente!\")\n",
        "  else:\n",
        "    response = chat.send_message( \"Eu gosto do anime: \" + json.dumps(meu_anime) + \" Sugira animes com base na listagem passada anteriormente!\")\n",
        "  print(response.text + \"\\n\\n\\n\")\n",
        "\n"
      ]
    }
  ],
  "metadata": {
    "colab": {
      "toc_visible": true,
      "provenance": [],
      "authorship_tag": "ABX9TyNqCuv8YwOGAy0IqLBb1yeS"
    },
    "kernelspec": {
      "display_name": "Python 3",
      "name": "python3"
    },
    "language_info": {
      "name": "python"
    }
  },
  "nbformat": 4,
  "nbformat_minor": 0
}